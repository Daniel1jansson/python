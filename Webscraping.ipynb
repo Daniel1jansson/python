{
 "cells": [
  {
   "cell_type": "code",
   "execution_count": null,
   "metadata": {},
   "outputs": [],
   "source": [
    "import pandas as pd"
   ]
  },
  {
   "cell_type": "code",
   "execution_count": null,
   "metadata": {},
   "outputs": [],
   "source": [
    "data = {'team': [],\n",
    "        'TI_away': [],\n",
    "        'TI_home': []\n",
    "}"
   ]
  },
  {
   "cell_type": "code",
   "execution_count": null,
   "metadata": {},
   "outputs": [],
   "source": [
    "keys = {'Arsenal': '18bb7c10', 'Aston Villa': '8602292d', 'Brighton & Hove Albion': 'd07537b9', 'Burnley': '943e8050',\n",
    "        'Chelsea': 'cff3d9bb', 'Crystal Palace': '47c64c55', 'Everton':'d3fd31cc', 'Fulham':'fd962109', 'Leeds United':\n",
    "        '5bfb9659', 'Leicester City': 'a2d435b3', 'Liverpool': '822bd0ba', 'Manchester City': 'b8fd03ef', \n",
    "        'Manchester United': '19538871', 'Newcastle United': 'b2b47a98', 'Southampton': '33c895d4', \n",
    "        'Tottenham Hotspur': '361ca564', 'West Bromwich Albion': '60c6b05f', \n",
    "        'West Ham United':'7c21e445', 'Wolverhampton Wanderers': '8cec06e1'\n",
    "}"
   ]
  },
  {
   "cell_type": "code",
   "execution_count": null,
   "metadata": {},
   "outputs": [],
   "source": [
    "def throw_ins(team):\n",
    "    url = \"https://fbref.com/en/squads/\" + keys[team] + \"/2020-2021/matchlogs/s10728/passing_types/\"\n",
    "    df = pd.read_html(url)[0]\n",
    "    df = df.iloc[:-1, :]\n",
    "    df_away = df[df['For '+ team]['Venue'] == 'Away']\n",
    "    df_home = df[df['For '+ team]['Venue'] == 'Home']\n",
    "    TI_away = (df_away['Body Parts']['TI'].sum() / df_away['Body Parts']['TI'].count())\n",
    "    TI_home = (df_home['Body Parts']['TI'].sum() / df_home['Body Parts']['TI'].count())\n",
    "    data['team'].append(team)\n",
    "    data['TI_away'].append(TI_away)\n",
    "    data['TI_home'].append(TI_home)"
   ]
  },
  {
   "cell_type": "code",
   "execution_count": null,
   "metadata": {},
   "outputs": [],
   "source": [
    "for team in keys:\n",
    "    throw_ins(team)"
   ]
  },
  {
   "cell_type": "code",
   "execution_count": null,
   "metadata": {},
   "outputs": [],
   "source": [
    "pd.DataFrame(data)"
   ]
  }
 ],
 "metadata": {
  "kernelspec": {
   "display_name": "Python 3",
   "language": "python",
   "name": "python3"
  },
  "language_info": {
   "codemirror_mode": {
    "name": "ipython",
    "version": 3
   },
   "file_extension": ".py",
   "mimetype": "text/x-python",
   "name": "python",
   "nbconvert_exporter": "python",
   "pygments_lexer": "ipython3",
   "version": "3.7.6"
  }
 },
 "nbformat": 4,
 "nbformat_minor": 4
}
